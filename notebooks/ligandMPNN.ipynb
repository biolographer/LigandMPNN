{
 "cells": [
  {
   "cell_type": "code",
   "execution_count": 122,
   "metadata": {},
   "outputs": [],
   "source": [
    "import re\n",
    "design_residues = \"\"\"residue id /A:14 name GLN index 123\n",
    "residue id /A:17 name SER index 126\n",
    "residue id /A:18 name GLY index 127\n",
    "residue id /A:19 name THR index 128\n",
    "residue id /A:20 name ALA index 129\n",
    "residue id /A:21 name SER index 130\n",
    "residue id /A:22 name VAL index 131\n",
    "residue id /A:48 name ASN index 157\n",
    "residue id /A:50 name GLN index 159\n",
    "residue id /A:68 name THR index 177\n",
    "residue id /A:69 name LEU index 178\n",
    "residue id /A:70 name THR index 179\n",
    "residue id /A:71 name LEU index 180\n",
    "residue id /A:72 name SER index 181\n",
    "residue id /A:73 name LYS index 182\n",
    "residue id /B:4 name LYS index 123\n",
    "residue id /B:6 name PRO index 125\n",
    "residue id /B:7 name SER index 126\n",
    "residue id /B:9 name PHE index 128\n",
    "residue id /B:28 name LEU index 147\n",
    "residue id /B:29 name VAL index 148\n",
    "residue id /B:30 name ALA index 149\n",
    "residue id /B:31 name ASP index 150\n",
    "residue id /B:32 name TYR index 151\n",
    "residue id /B:56 name VAL index 175\n",
    "residue id /B:57 name LEU index 176\n",
    "residue id /B:58 name GLN index 177\n",
    "residue id /B:59 name SER index 178\n",
    "residue id /B:60 name SER index 179\n",
    "residue id /B:61 name GLY index 180\n",
    "residue id /B:62 name LEU index 181\n",
    "residue id /B:63 name TYR index 182\n",
    "residue id /B:64 name SER index 183\n",
    "residue id /B:65 name LEU index 184\"\"\".replace(\":\", \"\").replace(\"/\", \"\")\n",
    "matches = re.findall(r'[A-Za-z]+\\d+', design_residues)\n",
    "\n",
    "#design_residues= design_residues.split(' ')[2]\n",
    "#design_residues = [nr[-3:] for nr in design_residues][:-1]\n",
    "ResDesign = \" \".join(matches)"
   ]
  },
  {
   "cell_type": "code",
   "execution_count": 128,
   "metadata": {},
   "outputs": [
    {
     "name": "stdout",
     "output_type": "stream",
     "text": [
      "Designing protein from this path: ./inputs/test.pdb\n",
      "These residues will be redesigned:  ['A14', 'A17', 'A18', 'A19', 'A20', 'A21', 'A22', 'A48', 'A50', 'A68', 'A69', 'A70', 'A71', 'A72', 'A73', 'B4', 'B6', 'B7', 'B9', 'B28', 'B29', 'B30', 'B31', 'B32', 'B56', 'B57', 'B58', 'B59', 'B60', 'B61', 'B62', 'B63', 'B64', 'B65']\n",
      "These residues will be fixed:  ['A1', 'A2', 'A3', 'A4', 'A5', 'A6', 'A7', 'A8', 'A9', 'A10', 'A11', 'A12', 'A13', 'A15', 'A16', 'A23', 'A24', 'A25', 'A26', 'A27', 'A28', 'A29', 'A30', 'A31', 'A32', 'A33', 'A34', 'A35', 'A36', 'A37', 'A38', 'A39', 'A40', 'A41', 'A42', 'A43', 'A44', 'A45', 'A46', 'A47', 'A49', 'A51', 'A52', 'A53', 'A54', 'A55', 'A56', 'A57', 'A58', 'A59', 'A60', 'A61', 'A62', 'A63', 'A64', 'A65', 'A66', 'A67', 'A74', 'A75', 'A76', 'A77', 'A78', 'A79', 'A80', 'A81', 'A82', 'A83', 'A84', 'A85', 'A86', 'A87', 'A88', 'A89', 'A90', 'A91', 'A92', 'A93', 'A94', 'A95', 'A96', 'A97', 'A98', 'A99', 'A100', 'A101', 'A102', 'A103', 'A104', 'B1', 'B2', 'B3', 'B5', 'B8', 'B10', 'B11', 'B12', 'B13', 'B14', 'B15', 'B16', 'B17', 'B18', 'B19', 'B20', 'B21', 'B22', 'B23', 'B24', 'B25', 'B26', 'B27', 'B33', 'B34', 'B35', 'B36', 'B37', 'B38', 'B39', 'B40', 'B41', 'B42', 'B43', 'B44', 'B45', 'B46', 'B47', 'B48', 'B49', 'B50', 'B51', 'B52', 'B53', 'B54', 'B55', 'B66', 'B67', 'B68', 'B69', 'B70', 'B71', 'B72', 'B73', 'B74', 'B75', 'B76', 'B77', 'B78', 'B79', 'B80', 'B81', 'B82', 'B83', 'B84', 'B85', 'B86', 'B87', 'B88', 'B89', 'B90', 'B91', 'B92', 'B93', 'B94', 'B95', 'B96', 'B97', 'B98', 'B99', 'B100']\n",
      "The number of ligand atoms parsed is equal to: 1\n",
      "Type: TB, Coords [25.825 41.252 90.979], Mask 1\n"
     ]
    }
   ],
   "source": [
    "!cd .. && python run.py \\\n",
    "        --seed 111 \\\n",
    "        --pdb_path \"./inputs/test.pdb\" \\\n",
    "        --model_type \"ligand_mpnn\" \\\n",
    "        --omit_AA \"C\" \\\n",
    "        --redesigned_residues \"$ResDesign\" \\\n",
    "        --zero_indexed 1 \\\n",
    "        --fasta_seq_separation \":\"\\\n",
    "        --out_folder \"./outputs/test\""
   ]
  },
  {
   "cell_type": "code",
   "execution_count": 135,
   "metadata": {},
   "outputs": [
    {
     "name": "stdout",
     "output_type": "stream",
     "text": [
      "Designing protein from this path: ./inputs/test.pdb\n",
      "These residues will be redesigned:  ['A14', 'A17', 'A18', 'A19', 'A20', 'A21', 'A22', 'A48', 'A50', 'A68', 'A69', 'A70', 'A71', 'A72', 'A73', 'B4', 'B6', 'B7', 'B9', 'B28', 'B29', 'B30', 'B31', 'B32', 'B56', 'B57', 'B58', 'B59', 'B60', 'B61', 'B62', 'B63', 'B64', 'B65']\n",
      "These residues will be fixed:  ['A1', 'A2', 'A3', 'A4', 'A5', 'A6', 'A7', 'A8', 'A9', 'A10', 'A11', 'A12', 'A13', 'A15', 'A16', 'A23', 'A24', 'A25', 'A26', 'A27', 'A28', 'A29', 'A30', 'A31', 'A32', 'A33', 'A34', 'A35', 'A36', 'A37', 'A38', 'A39', 'A40', 'A41', 'A42', 'A43', 'A44', 'A45', 'A46', 'A47', 'A49', 'A51', 'A52', 'A53', 'A54', 'A55', 'A56', 'A57', 'A58', 'A59', 'A60', 'A61', 'A62', 'A63', 'A64', 'A65', 'A66', 'A67', 'A74', 'A75', 'A76', 'A77', 'A78', 'A79', 'A80', 'A81', 'A82', 'A83', 'A84', 'A85', 'A86', 'A87', 'A88', 'A89', 'A90', 'A91', 'A92', 'A93', 'A94', 'A95', 'A96', 'A97', 'A98', 'A99', 'A100', 'A101', 'A102', 'A103', 'A104', 'B1', 'B2', 'B3', 'B5', 'B8', 'B10', 'B11', 'B12', 'B13', 'B14', 'B15', 'B16', 'B17', 'B18', 'B19', 'B20', 'B21', 'B22', 'B23', 'B24', 'B25', 'B26', 'B27', 'B33', 'B34', 'B35', 'B36', 'B37', 'B38', 'B39', 'B40', 'B41', 'B42', 'B43', 'B44', 'B45', 'B46', 'B47', 'B48', 'B49', 'B50', 'B51', 'B52', 'B53', 'B54', 'B55', 'B66', 'B67', 'B68', 'B69', 'B70', 'B71', 'B72', 'B73', 'B74', 'B75', 'B76', 'B77', 'B78', 'B79', 'B80', 'B81', 'B82', 'B83', 'B84', 'B85', 'B86', 'B87', 'B88', 'B89', 'B90', 'B91', 'B92', 'B93', 'B94', 'B95', 'B96', 'B97', 'B98', 'B99', 'B100']\n",
      "The number of ligand atoms parsed is equal to: 1\n",
      "Type: TB, Coords [25.825 41.252 90.979], Mask 1\n",
      "Packing side chains...\n"
     ]
    }
   ],
   "source": [
    "# with packing and fixed residues\n",
    "\n",
    "!cd .. && python run.py \\\n",
    "        --model_type \"ligand_mpnn\" \\\n",
    "        --pdb_path \"./inputs/test.pdb\" \\\n",
    "        --out_folder \"./outputs/test_packed\" \\\n",
    "        --pack_side_chains 1 \\\n",
    "        --number_of_packs_per_design 1 \\\n",
    "        --pack_with_ligand_context 1 \\\n",
    "        --redesigned_residues \"$ResDesign\" \\\n",
    "        --batch_size 3 \\\n",
    "        --number_of_batches 5 \\\n",
    "        --repack_everything 1"
   ]
  },
  {
   "cell_type": "code",
   "execution_count": 136,
   "metadata": {},
   "outputs": [
    {
     "name": "stdout",
     "output_type": "stream",
     "text": [
      "Designing protein from this path: ./inputs/test.pdb\n",
      "These residues will be redesigned:  ['A14', 'A17', 'A18', 'A19', 'A20', 'A21', 'A22', 'A48', 'A50', 'A68', 'A69', 'A70', 'A71', 'A72', 'A73', 'B4', 'B6', 'B7', 'B9', 'B28', 'B29', 'B30', 'B31', 'B32', 'B56', 'B57', 'B58', 'B59', 'B60', 'B61', 'B62', 'B63', 'B64', 'B65']\n",
      "These residues will be fixed:  ['A1', 'A2', 'A3', 'A4', 'A5', 'A6', 'A7', 'A8', 'A9', 'A10', 'A11', 'A12', 'A13', 'A15', 'A16', 'A23', 'A24', 'A25', 'A26', 'A27', 'A28', 'A29', 'A30', 'A31', 'A32', 'A33', 'A34', 'A35', 'A36', 'A37', 'A38', 'A39', 'A40', 'A41', 'A42', 'A43', 'A44', 'A45', 'A46', 'A47', 'A49', 'A51', 'A52', 'A53', 'A54', 'A55', 'A56', 'A57', 'A58', 'A59', 'A60', 'A61', 'A62', 'A63', 'A64', 'A65', 'A66', 'A67', 'A74', 'A75', 'A76', 'A77', 'A78', 'A79', 'A80', 'A81', 'A82', 'A83', 'A84', 'A85', 'A86', 'A87', 'A88', 'A89', 'A90', 'A91', 'A92', 'A93', 'A94', 'A95', 'A96', 'A97', 'A98', 'A99', 'A100', 'A101', 'A102', 'A103', 'A104', 'B1', 'B2', 'B3', 'B5', 'B8', 'B10', 'B11', 'B12', 'B13', 'B14', 'B15', 'B16', 'B17', 'B18', 'B19', 'B20', 'B21', 'B22', 'B23', 'B24', 'B25', 'B26', 'B27', 'B33', 'B34', 'B35', 'B36', 'B37', 'B38', 'B39', 'B40', 'B41', 'B42', 'B43', 'B44', 'B45', 'B46', 'B47', 'B48', 'B49', 'B50', 'B51', 'B52', 'B53', 'B54', 'B55', 'B66', 'B67', 'B68', 'B69', 'B70', 'B71', 'B72', 'B73', 'B74', 'B75', 'B76', 'B77', 'B78', 'B79', 'B80', 'B81', 'B82', 'B83', 'B84', 'B85', 'B86', 'B87', 'B88', 'B89', 'B90', 'B91', 'B92', 'B93', 'B94', 'B95', 'B96', 'B97', 'B98', 'B99', 'B100']\n",
      "Packing side chains...\n"
     ]
    }
   ],
   "source": [
    "# with packing and fixed residues and ignore ligand\n",
    "\n",
    "!cd .. && python run.py \\\n",
    "        --model_type \"protein_mpnn\" \\\n",
    "        --pdb_path \"./inputs/test.pdb\" \\\n",
    "        --out_folder \"./outputs/test_packed_ignore_ligand\" \\\n",
    "        --pack_side_chains 1 \\\n",
    "        --number_of_packs_per_design 1 \\\n",
    "        --pack_with_ligand_context 1 \\\n",
    "        --redesigned_residues \"$ResDesign\" \\\n",
    "        --batch_size 3 \\\n",
    "        --number_of_batches 5 \\\n",
    "        --repack_everything 1 \\\n",
    "        --pack_with_ligand_context 0 \\\n",
    "        --ligand_mpnn_use_atom_context 0"
   ]
  },
  {
   "cell_type": "code",
   "execution_count": null,
   "metadata": {},
   "outputs": [],
   "source": []
  }
 ],
 "metadata": {
  "kernelspec": {
   "display_name": "ligandmpnn_env",
   "language": "python",
   "name": "python3"
  },
  "language_info": {
   "codemirror_mode": {
    "name": "ipython",
    "version": 3
   },
   "file_extension": ".py",
   "mimetype": "text/x-python",
   "name": "python",
   "nbconvert_exporter": "python",
   "pygments_lexer": "ipython3",
   "version": "3.11.11"
  }
 },
 "nbformat": 4,
 "nbformat_minor": 2
}
