{
  "cells": [
    {
      "cell_type": "markdown",
      "metadata": {
        "id": "view-in-github",
        "colab_type": "text"
      },
      "source": [
        "<a href=\"https://colab.research.google.com/github/biolographer/LigandMPNN/blob/main/notebooks/colab_ligandMPNN.ipynb\" target=\"_parent\"><img src=\"https://colab.research.google.com/assets/colab-badge.svg\" alt=\"Open In Colab\"/></a>"
      ]
    },
    {
      "cell_type": "code",
      "execution_count": 1,
      "metadata": {
        "collapsed": true,
        "id": "VWvgWDLsbk4d",
        "outputId": "a43ece12-2dbd-49e3-b2b5-09ed3c152882",
        "colab": {
          "base_uri": "https://localhost:8080/"
        }
      },
      "outputs": [
        {
          "output_type": "stream",
          "name": "stdout",
          "text": [
            "Cloning into 'LigandMPNN'...\n",
            "remote: Enumerating objects: 354, done.\u001b[K\n",
            "remote: Counting objects: 100% (75/75), done.\u001b[K\n",
            "remote: Compressing objects: 100% (47/47), done.\u001b[K\n",
            "remote: Total 354 (delta 37), reused 33 (delta 26), pack-reused 279 (from 2)\u001b[K\n",
            "Receiving objects: 100% (354/354), 2.64 MiB | 15.98 MiB/s, done.\n",
            "Resolving deltas: 100% (138/138), done.\n"
          ]
        }
      ],
      "source": [
        "!git clone https://github.com/biolographer/LigandMPNN"
      ]
    },
    {
      "cell_type": "code",
      "source": [
        "!mv LigandMPNN/* .\n",
        "!rm -rf LigandMPNN/"
      ],
      "metadata": {
        "id": "LQDB14eVs2zb",
        "outputId": "f9205ee4-d4b5-4fa2-c834-253456f36ed5",
        "colab": {
          "base_uri": "https://localhost:8080/"
        }
      },
      "execution_count": 29,
      "outputs": [
        {
          "output_type": "stream",
          "name": "stdout",
          "text": [
            "mv: cannot stat 'LigandMPNN/*': No such file or directory\n"
          ]
        }
      ]
    },
    {
      "cell_type": "code",
      "source": [
        "!pip install -r requirements.txt"
      ],
      "metadata": {
        "collapsed": true,
        "id": "AJ1KX8ZEtAls",
        "outputId": "5f468448-e566-48de-e0b1-8442ee402859",
        "colab": {
          "base_uri": "https://localhost:8080/"
        }
      },
      "execution_count": 1,
      "outputs": [
        {
          "output_type": "stream",
          "name": "stdout",
          "text": [
            "Requirement already satisfied: biopython==1.79 in /usr/local/lib/python3.11/dist-packages (from -r requirements.txt (line 1)) (1.79)\n",
            "Requirement already satisfied: filelock==3.13.1 in /usr/local/lib/python3.11/dist-packages (from -r requirements.txt (line 2)) (3.13.1)\n",
            "Requirement already satisfied: fsspec==2024.3.1 in /usr/local/lib/python3.11/dist-packages (from -r requirements.txt (line 3)) (2024.3.1)\n",
            "Requirement already satisfied: Jinja2==3.1.3 in /usr/local/lib/python3.11/dist-packages (from -r requirements.txt (line 4)) (3.1.3)\n",
            "Requirement already satisfied: MarkupSafe==2.1.5 in /usr/local/lib/python3.11/dist-packages (from -r requirements.txt (line 5)) (2.1.5)\n",
            "Requirement already satisfied: mpmath==1.3.0 in /usr/local/lib/python3.11/dist-packages (from -r requirements.txt (line 6)) (1.3.0)\n",
            "Requirement already satisfied: networkx==3.2.1 in /usr/local/lib/python3.11/dist-packages (from -r requirements.txt (line 7)) (3.2.1)\n",
            "Requirement already satisfied: numpy==1.23.5 in /usr/local/lib/python3.11/dist-packages (from -r requirements.txt (line 8)) (1.23.5)\n",
            "Requirement already satisfied: ProDy==2.4.1 in /usr/local/lib/python3.11/dist-packages (from -r requirements.txt (line 21)) (2.4.1)\n",
            "Requirement already satisfied: pyparsing==3.1.1 in /usr/local/lib/python3.11/dist-packages (from -r requirements.txt (line 22)) (3.1.1)\n",
            "Requirement already satisfied: scipy==1.12.0 in /usr/local/lib/python3.11/dist-packages (from -r requirements.txt (line 23)) (1.12.0)\n",
            "Requirement already satisfied: sympy==1.12 in /usr/local/lib/python3.11/dist-packages (from -r requirements.txt (line 24)) (1.12)\n",
            "Requirement already satisfied: torch==2.2.1 in /usr/local/lib/python3.11/dist-packages (from -r requirements.txt (line 25)) (2.2.1)\n",
            "Requirement already satisfied: typing_extensions==4.10.0 in /usr/local/lib/python3.11/dist-packages (from -r requirements.txt (line 27)) (4.10.0)\n",
            "Requirement already satisfied: ml-collections==0.1.1 in /usr/local/lib/python3.11/dist-packages (from -r requirements.txt (line 28)) (0.1.1)\n",
            "Requirement already satisfied: dm-tree==0.1.8 in /usr/local/lib/python3.11/dist-packages (from -r requirements.txt (line 29)) (0.1.8)\n",
            "Requirement already satisfied: setuptools in /usr/local/lib/python3.11/dist-packages (from ProDy==2.4.1->-r requirements.txt (line 21)) (75.1.0)\n",
            "Requirement already satisfied: nvidia-cuda-nvrtc-cu12==12.1.105 in /usr/local/lib/python3.11/dist-packages (from torch==2.2.1->-r requirements.txt (line 25)) (12.1.105)\n",
            "Requirement already satisfied: nvidia-cuda-runtime-cu12==12.1.105 in /usr/local/lib/python3.11/dist-packages (from torch==2.2.1->-r requirements.txt (line 25)) (12.1.105)\n",
            "Requirement already satisfied: nvidia-cuda-cupti-cu12==12.1.105 in /usr/local/lib/python3.11/dist-packages (from torch==2.2.1->-r requirements.txt (line 25)) (12.1.105)\n",
            "Requirement already satisfied: nvidia-cudnn-cu12==8.9.2.26 in /usr/local/lib/python3.11/dist-packages (from torch==2.2.1->-r requirements.txt (line 25)) (8.9.2.26)\n",
            "Requirement already satisfied: nvidia-cublas-cu12==12.1.3.1 in /usr/local/lib/python3.11/dist-packages (from torch==2.2.1->-r requirements.txt (line 25)) (12.1.3.1)\n",
            "Requirement already satisfied: nvidia-cufft-cu12==11.0.2.54 in /usr/local/lib/python3.11/dist-packages (from torch==2.2.1->-r requirements.txt (line 25)) (11.0.2.54)\n",
            "Requirement already satisfied: nvidia-curand-cu12==10.3.2.106 in /usr/local/lib/python3.11/dist-packages (from torch==2.2.1->-r requirements.txt (line 25)) (10.3.2.106)\n",
            "Requirement already satisfied: nvidia-cusolver-cu12==11.4.5.107 in /usr/local/lib/python3.11/dist-packages (from torch==2.2.1->-r requirements.txt (line 25)) (11.4.5.107)\n",
            "Requirement already satisfied: nvidia-cusparse-cu12==12.1.0.106 in /usr/local/lib/python3.11/dist-packages (from torch==2.2.1->-r requirements.txt (line 25)) (12.1.0.106)\n",
            "Requirement already satisfied: nvidia-nccl-cu12==2.19.3 in /usr/local/lib/python3.11/dist-packages (from torch==2.2.1->-r requirements.txt (line 25)) (2.19.3)\n",
            "Requirement already satisfied: nvidia-nvtx-cu12==12.1.105 in /usr/local/lib/python3.11/dist-packages (from torch==2.2.1->-r requirements.txt (line 25)) (12.1.105)\n",
            "Requirement already satisfied: triton==2.2.0 in /usr/local/lib/python3.11/dist-packages (from torch==2.2.1->-r requirements.txt (line 25)) (2.2.0)\n",
            "Requirement already satisfied: absl-py in /usr/local/lib/python3.11/dist-packages (from ml-collections==0.1.1->-r requirements.txt (line 28)) (1.4.0)\n",
            "Requirement already satisfied: PyYAML in /usr/local/lib/python3.11/dist-packages (from ml-collections==0.1.1->-r requirements.txt (line 28)) (6.0.2)\n",
            "Requirement already satisfied: six in /usr/local/lib/python3.11/dist-packages (from ml-collections==0.1.1->-r requirements.txt (line 28)) (1.17.0)\n",
            "Requirement already satisfied: contextlib2 in /usr/local/lib/python3.11/dist-packages (from ml-collections==0.1.1->-r requirements.txt (line 28)) (21.6.0)\n",
            "Requirement already satisfied: nvidia-nvjitlink-cu12 in /usr/local/lib/python3.11/dist-packages (from nvidia-cusolver-cu12==11.4.5.107->torch==2.2.1->-r requirements.txt (line 25)) (12.5.82)\n"
          ]
        }
      ]
    },
    {
      "cell_type": "code",
      "source": [
        "!bash get_model_params.sh ./checkpoints"
      ],
      "metadata": {
        "id": "71yzldZCcI7o"
      },
      "execution_count": 30,
      "outputs": []
    },
    {
      "cell_type": "code",
      "execution_count": 19,
      "metadata": {
        "id": "IscRzDMNbk4d"
      },
      "outputs": [],
      "source": [
        "import re\n",
        "design_residues = \"\"\"residue id /A:14 name GLN index 123\n",
        "residue id /A:17 name SER index 126\n",
        "residue id /A:18 name GLY index 127\n",
        "residue id /A:19 name THR index 128\n",
        "residue id /A:20 name ALA index 129\n",
        "residue id /A:21 name SER index 130\n",
        "residue id /A:22 name VAL index 131\n",
        "residue id /A:48 name ASN index 157\n",
        "residue id /A:50 name GLN index 159\n",
        "residue id /A:68 name THR index 177\n",
        "residue id /A:69 name LEU index 178\n",
        "residue id /A:70 name THR index 179\n",
        "residue id /A:71 name LEU index 180\n",
        "residue id /A:72 name SER index 181\n",
        "residue id /A:73 name LYS index 182\n",
        "residue id /B:4 name LYS index 123\n",
        "residue id /B:6 name PRO index 125\n",
        "residue id /B:7 name SER index 126\n",
        "residue id /B:9 name PHE index 128\n",
        "residue id /B:28 name LEU index 147\n",
        "residue id /B:29 name VAL index 148\n",
        "residue id /B:30 name ALA index 149\n",
        "residue id /B:31 name ASP index 150\n",
        "residue id /B:32 name TYR index 151\n",
        "residue id /B:56 name VAL index 175\n",
        "residue id /B:57 name LEU index 176\n",
        "residue id /B:58 name GLN index 177\n",
        "residue id /B:59 name SER index 178\n",
        "residue id /B:60 name SER index 179\n",
        "residue id /B:61 name GLY index 180\n",
        "residue id /B:62 name LEU index 181\n",
        "residue id /B:63 name TYR index 182\n",
        "residue id /B:64 name SER index 183\n",
        "residue id /B:65 name LEU index 184\"\"\".replace(\":\", \"\").replace(\"/\", \"\")\n",
        "matches = re.findall(r'[A-Za-z]+\\d+', design_residues)\n",
        "\n",
        "#design_residues= design_residues.split(' ')[2]\n",
        "#design_residues = [nr[-3:] for nr in design_residues][:-1]\n",
        "ResDesign = \" \".join(matches)"
      ]
    },
    {
      "cell_type": "code",
      "execution_count": 35,
      "metadata": {
        "id": "WrOJMJdMbk4d",
        "outputId": "39ccbc41-13b9-43b2-a517-4f24fcc42c1a",
        "colab": {
          "base_uri": "https://localhost:8080/"
        }
      },
      "outputs": [
        {
          "output_type": "stream",
          "name": "stdout",
          "text": [
            "/content/checkpoints/ligandmpnn_v_32_010_25.pt\n",
            "Designing protein from this path: ./inputs/test.pdb\n",
            "These residues will be redesigned:  ['A14', 'A17', 'A18', 'A19', 'A20', 'A21', 'A22', 'A48', 'A50', 'A68', 'A69', 'A70', 'A71', 'A72', 'A73', 'B4', 'B6', 'B7', 'B9', 'B28', 'B29', 'B30', 'B31', 'B32', 'B56', 'B57', 'B58', 'B59', 'B60', 'B61', 'B62', 'B63', 'B64', 'B65']\n",
            "These residues will be fixed:  ['A1', 'A2', 'A3', 'A4', 'A5', 'A6', 'A7', 'A8', 'A9', 'A10', 'A11', 'A12', 'A13', 'A15', 'A16', 'A23', 'A24', 'A25', 'A26', 'A27', 'A28', 'A29', 'A30', 'A31', 'A32', 'A33', 'A34', 'A35', 'A36', 'A37', 'A38', 'A39', 'A40', 'A41', 'A42', 'A43', 'A44', 'A45', 'A46', 'A47', 'A49', 'A51', 'A52', 'A53', 'A54', 'A55', 'A56', 'A57', 'A58', 'A59', 'A60', 'A61', 'A62', 'A63', 'A64', 'A65', 'A66', 'A67', 'A74', 'A75', 'A76', 'A77', 'A78', 'A79', 'A80', 'A81', 'A82', 'A83', 'A84', 'A85', 'A86', 'A87', 'A88', 'A89', 'A90', 'A91', 'A92', 'A93', 'A94', 'A95', 'A96', 'A97', 'A98', 'A99', 'A100', 'A101', 'A102', 'A103', 'A104', 'B1', 'B2', 'B3', 'B5', 'B8', 'B10', 'B11', 'B12', 'B13', 'B14', 'B15', 'B16', 'B17', 'B18', 'B19', 'B20', 'B21', 'B22', 'B23', 'B24', 'B25', 'B26', 'B27', 'B33', 'B34', 'B35', 'B36', 'B37', 'B38', 'B39', 'B40', 'B41', 'B42', 'B43', 'B44', 'B45', 'B46', 'B47', 'B48', 'B49', 'B50', 'B51', 'B52', 'B53', 'B54', 'B55', 'B66', 'B67', 'B68', 'B69', 'B70', 'B71', 'B72', 'B73', 'B74', 'B75', 'B76', 'B77', 'B78', 'B79', 'B80', 'B81', 'B82', 'B83', 'B84', 'B85', 'B86', 'B87', 'B88', 'B89', 'B90', 'B91', 'B92', 'B93', 'B94', 'B95', 'B96', 'B97', 'B98', 'B99', 'B100']\n",
            "The number of ligand atoms parsed is equal to: 1\n",
            "Type: TB, Coords [25.825 41.252 90.979], Mask 1\n"
          ]
        }
      ],
      "source": [
        "CHECKPOINT_LIGAND_MPNN = '/content/checkpoints/ligandmpnn_v_32_010_25.pt'\n",
        "\n",
        "!cd LigandMPNN && python run.py \\\n",
        "        --seed 111 \\\n",
        "        --pdb_path \"./inputs/test.pdb\" \\\n",
        "        --model_type \"ligand_mpnn\" \\\n",
        "        --checkpoint_ligand_mpnn $CHECKPOINT_LIGAND_MPNN \\\n",
        "        --omit_AA \"C\" \\\n",
        "        --redesigned_residues \"$ResDesign\" \\\n",
        "        --zero_indexed 1 \\\n",
        "        --fasta_seq_separation \":\"\\\n",
        "        --batch_size 3 \\\n",
        "        --number_of_batches 5 \\\n",
        "        --out_folder \"../test\""
      ]
    },
    {
      "cell_type": "code",
      "execution_count": null,
      "metadata": {
        "id": "KYu-lig7bk4d",
        "outputId": "d8d2ff5f-3bb3-4543-b368-1dbbd53dc667"
      },
      "outputs": [
        {
          "name": "stdout",
          "output_type": "stream",
          "text": [
            "Designing protein from this path: ./inputs/test.pdb\n",
            "These residues will be redesigned:  ['A14', 'A17', 'A18', 'A19', 'A20', 'A21', 'A22', 'A48', 'A50', 'A68', 'A69', 'A70', 'A71', 'A72', 'A73', 'B4', 'B6', 'B7', 'B9', 'B28', 'B29', 'B30', 'B31', 'B32', 'B56', 'B57', 'B58', 'B59', 'B60', 'B61', 'B62', 'B63', 'B64', 'B65']\n",
            "These residues will be fixed:  ['A1', 'A2', 'A3', 'A4', 'A5', 'A6', 'A7', 'A8', 'A9', 'A10', 'A11', 'A12', 'A13', 'A15', 'A16', 'A23', 'A24', 'A25', 'A26', 'A27', 'A28', 'A29', 'A30', 'A31', 'A32', 'A33', 'A34', 'A35', 'A36', 'A37', 'A38', 'A39', 'A40', 'A41', 'A42', 'A43', 'A44', 'A45', 'A46', 'A47', 'A49', 'A51', 'A52', 'A53', 'A54', 'A55', 'A56', 'A57', 'A58', 'A59', 'A60', 'A61', 'A62', 'A63', 'A64', 'A65', 'A66', 'A67', 'A74', 'A75', 'A76', 'A77', 'A78', 'A79', 'A80', 'A81', 'A82', 'A83', 'A84', 'A85', 'A86', 'A87', 'A88', 'A89', 'A90', 'A91', 'A92', 'A93', 'A94', 'A95', 'A96', 'A97', 'A98', 'A99', 'A100', 'A101', 'A102', 'A103', 'A104', 'B1', 'B2', 'B3', 'B5', 'B8', 'B10', 'B11', 'B12', 'B13', 'B14', 'B15', 'B16', 'B17', 'B18', 'B19', 'B20', 'B21', 'B22', 'B23', 'B24', 'B25', 'B26', 'B27', 'B33', 'B34', 'B35', 'B36', 'B37', 'B38', 'B39', 'B40', 'B41', 'B42', 'B43', 'B44', 'B45', 'B46', 'B47', 'B48', 'B49', 'B50', 'B51', 'B52', 'B53', 'B54', 'B55', 'B66', 'B67', 'B68', 'B69', 'B70', 'B71', 'B72', 'B73', 'B74', 'B75', 'B76', 'B77', 'B78', 'B79', 'B80', 'B81', 'B82', 'B83', 'B84', 'B85', 'B86', 'B87', 'B88', 'B89', 'B90', 'B91', 'B92', 'B93', 'B94', 'B95', 'B96', 'B97', 'B98', 'B99', 'B100']\n",
            "The number of ligand atoms parsed is equal to: 1\n",
            "Type: TB, Coords [25.825 41.252 90.979], Mask 1\n",
            "Packing side chains...\n"
          ]
        }
      ],
      "source": [
        "# with packing and fixed residues\n",
        "\n",
        "!cd .. && python run.py \\\n",
        "        --model_type \"ligand_mpnn\" \\\n",
        "        --pdb_path \"./inputs/test.pdb\" \\\n",
        "        --out_folder \"./outputs/test_packed\" \\\n",
        "        --pack_side_chains 1 \\\n",
        "        --number_of_packs_per_design 1 \\\n",
        "        --pack_with_ligand_context 1 \\\n",
        "        --redesigned_residues \"$ResDesign\" \\\n",
        "        --batch_size 3 \\\n",
        "        --number_of_batches 5 \\\n",
        "        --repack_everything 1"
      ]
    },
    {
      "cell_type": "code",
      "execution_count": null,
      "metadata": {
        "id": "T9tWeg-hbk4d",
        "outputId": "04ef736d-3099-4871-9443-2cf3c4d5b657"
      },
      "outputs": [
        {
          "name": "stdout",
          "output_type": "stream",
          "text": [
            "Designing protein from this path: ./inputs/test.pdb\n",
            "These residues will be redesigned:  ['A14', 'A17', 'A18', 'A19', 'A20', 'A21', 'A22', 'A48', 'A50', 'A68', 'A69', 'A70', 'A71', 'A72', 'A73', 'B4', 'B6', 'B7', 'B9', 'B28', 'B29', 'B30', 'B31', 'B32', 'B56', 'B57', 'B58', 'B59', 'B60', 'B61', 'B62', 'B63', 'B64', 'B65']\n",
            "These residues will be fixed:  ['A1', 'A2', 'A3', 'A4', 'A5', 'A6', 'A7', 'A8', 'A9', 'A10', 'A11', 'A12', 'A13', 'A15', 'A16', 'A23', 'A24', 'A25', 'A26', 'A27', 'A28', 'A29', 'A30', 'A31', 'A32', 'A33', 'A34', 'A35', 'A36', 'A37', 'A38', 'A39', 'A40', 'A41', 'A42', 'A43', 'A44', 'A45', 'A46', 'A47', 'A49', 'A51', 'A52', 'A53', 'A54', 'A55', 'A56', 'A57', 'A58', 'A59', 'A60', 'A61', 'A62', 'A63', 'A64', 'A65', 'A66', 'A67', 'A74', 'A75', 'A76', 'A77', 'A78', 'A79', 'A80', 'A81', 'A82', 'A83', 'A84', 'A85', 'A86', 'A87', 'A88', 'A89', 'A90', 'A91', 'A92', 'A93', 'A94', 'A95', 'A96', 'A97', 'A98', 'A99', 'A100', 'A101', 'A102', 'A103', 'A104', 'B1', 'B2', 'B3', 'B5', 'B8', 'B10', 'B11', 'B12', 'B13', 'B14', 'B15', 'B16', 'B17', 'B18', 'B19', 'B20', 'B21', 'B22', 'B23', 'B24', 'B25', 'B26', 'B27', 'B33', 'B34', 'B35', 'B36', 'B37', 'B38', 'B39', 'B40', 'B41', 'B42', 'B43', 'B44', 'B45', 'B46', 'B47', 'B48', 'B49', 'B50', 'B51', 'B52', 'B53', 'B54', 'B55', 'B66', 'B67', 'B68', 'B69', 'B70', 'B71', 'B72', 'B73', 'B74', 'B75', 'B76', 'B77', 'B78', 'B79', 'B80', 'B81', 'B82', 'B83', 'B84', 'B85', 'B86', 'B87', 'B88', 'B89', 'B90', 'B91', 'B92', 'B93', 'B94', 'B95', 'B96', 'B97', 'B98', 'B99', 'B100']\n",
            "Packing side chains...\n"
          ]
        }
      ],
      "source": [
        "# with packing and fixed residues and ignore ligand\n",
        "\n",
        "!cd .. && python run.py \\\n",
        "        --model_type \"protein_mpnn\" \\\n",
        "        --pdb_path \"./inputs/test.pdb\" \\\n",
        "        --out_folder \"./outputs/test_packed_ignore_ligand\" \\\n",
        "        --pack_side_chains 1 \\\n",
        "        --number_of_packs_per_design 1 \\\n",
        "        --pack_with_ligand_context 1 \\\n",
        "        --redesigned_residues \"$ResDesign\" \\\n",
        "        --batch_size 3 \\\n",
        "        --number_of_batches 5 \\\n",
        "        --repack_everything 1 \\\n",
        "        --pack_with_ligand_context 0 \\\n",
        "        --ligand_mpnn_use_atom_context 0"
      ]
    },
    {
      "cell_type": "code",
      "execution_count": null,
      "metadata": {
        "id": "JMowICGRbk4e"
      },
      "outputs": [],
      "source": [
        "!python run.py \\\n",
        "        --seed 111 \\\n",
        "        --pdb_path \"./inputs/1BC8.pdb\" \\\n",
        "        --model_type \"ligand_mpnn\" \\\n",
        "        --omit_AA \"CDFGHILMNPQRSTVWY\" \\\n",
        "        --fixed_residues \"C1 C2 C3 C4 C5 C6 C7 C8 C9 C10\" \\\n",
        "        --zero_indexed 1 \\\n",
        "        --fasta_seq_separation \":\"\\\n",
        "        --out_folder \"./outputs/global_omit\""
      ]
    },
    {
      "cell_type": "code",
      "execution_count": null,
      "metadata": {
        "id": "OvBNwIarbk4e"
      },
      "outputs": [],
      "source": []
    },
    {
      "cell_type": "code",
      "execution_count": null,
      "metadata": {
        "id": "bQ-anPj3bk4e"
      },
      "outputs": [],
      "source": [
        "# with packing and fixed residues\n",
        "\n",
        "!python run.py \\\n",
        "        --model_type \"ligand_mpnn\" \\\n",
        "        --seed 111 \\\n",
        "        --pdb_path \"./inputs/test.pdb\" \\\n",
        "        --out_folder \"./outputs/test\" \\\n",
        "        --pack_side_chains 1 \\\n",
        "        --number_of_packs_per_design 4 \\\n",
        "        --pack_with_ligand_context 1 \\\n",
        "        --redesigned_residues \"C1 C2 C3 C4 C5 C6 C7 C8 C9 C10\" \\\n",
        "        --repack_everything 0"
      ]
    },
    {
      "cell_type": "code",
      "source": [
        "!python LigandMPNN/run.py --help"
      ],
      "metadata": {
        "id": "bF2SkB5jgNo_",
        "outputId": "d35aaa73-a9da-440c-a015-7739fa4141a4",
        "colab": {
          "base_uri": "https://localhost:8080/"
        }
      },
      "execution_count": 25,
      "outputs": [
        {
          "output_type": "stream",
          "name": "stdout",
          "text": [
            "usage: run.py [-h] [--model_type MODEL_TYPE] [--checkpoint_protein_mpnn CHECKPOINT_PROTEIN_MPNN]\n",
            "              [--checkpoint_ligand_mpnn CHECKPOINT_LIGAND_MPNN]\n",
            "              [--checkpoint_per_residue_label_membrane_mpnn CHECKPOINT_PER_RESIDUE_LABEL_MEMBRANE_MPNN]\n",
            "              [--checkpoint_global_label_membrane_mpnn CHECKPOINT_GLOBAL_LABEL_MEMBRANE_MPNN]\n",
            "              [--checkpoint_soluble_mpnn CHECKPOINT_SOLUBLE_MPNN]\n",
            "              [--fasta_seq_separation FASTA_SEQ_SEPARATION] [--verbose VERBOSE]\n",
            "              [--pdb_path PDB_PATH] [--pdb_path_multi PDB_PATH_MULTI]\n",
            "              [--fixed_residues FIXED_RESIDUES] [--fixed_residues_multi FIXED_RESIDUES_MULTI]\n",
            "              [--redesigned_residues REDESIGNED_RESIDUES]\n",
            "              [--redesigned_residues_multi REDESIGNED_RESIDUES_MULTI] [--bias_AA BIAS_AA]\n",
            "              [--bias_AA_per_residue BIAS_AA_PER_RESIDUE]\n",
            "              [--bias_AA_per_residue_multi BIAS_AA_PER_RESIDUE_MULTI] [--omit_AA OMIT_AA]\n",
            "              [--omit_AA_per_residue OMIT_AA_PER_RESIDUE]\n",
            "              [--omit_AA_per_residue_multi OMIT_AA_PER_RESIDUE_MULTI]\n",
            "              [--symmetry_residues SYMMETRY_RESIDUES] [--symmetry_weights SYMMETRY_WEIGHTS]\n",
            "              [--homo_oligomer HOMO_OLIGOMER] [--out_folder OUT_FOLDER]\n",
            "              [--file_ending FILE_ENDING] [--zero_indexed ZERO_INDEXED] [--seed SEED]\n",
            "              [--batch_size BATCH_SIZE] [--number_of_batches NUMBER_OF_BATCHES]\n",
            "              [--temperature TEMPERATURE] [--save_stats SAVE_STATS]\n",
            "              [--ligand_mpnn_use_atom_context LIGAND_MPNN_USE_ATOM_CONTEXT]\n",
            "              [--ligand_mpnn_cutoff_for_score LIGAND_MPNN_CUTOFF_FOR_SCORE]\n",
            "              [--ligand_mpnn_use_side_chain_context LIGAND_MPNN_USE_SIDE_CHAIN_CONTEXT]\n",
            "              [--chains_to_design CHAINS_TO_DESIGN]\n",
            "              [--parse_these_chains_only PARSE_THESE_CHAINS_ONLY]\n",
            "              [--transmembrane_buried TRANSMEMBRANE_BURIED]\n",
            "              [--transmembrane_interface TRANSMEMBRANE_INTERFACE]\n",
            "              [--global_transmembrane_label GLOBAL_TRANSMEMBRANE_LABEL]\n",
            "              [--parse_atoms_with_zero_occupancy PARSE_ATOMS_WITH_ZERO_OCCUPANCY]\n",
            "              [--pack_side_chains PACK_SIDE_CHAINS] [--checkpoint_path_sc CHECKPOINT_PATH_SC]\n",
            "              [--number_of_packs_per_design NUMBER_OF_PACKS_PER_DESIGN]\n",
            "              [--sc_num_denoising_steps SC_NUM_DENOISING_STEPS] [--sc_num_samples SC_NUM_SAMPLES]\n",
            "              [--repack_everything REPACK_EVERYTHING] [--force_hetatm FORCE_HETATM]\n",
            "              [--packed_suffix PACKED_SUFFIX]\n",
            "              [--pack_with_ligand_context PACK_WITH_LIGAND_CONTEXT]\n",
            "\n",
            "options:\n",
            "  -h, --help            show this help message and exit\n",
            "  --model_type MODEL_TYPE\n",
            "                        Choose your model: protein_mpnn, ligand_mpnn,\n",
            "                        per_residue_label_membrane_mpnn, global_label_membrane_mpnn, soluble_mpnn\n",
            "                        (default: protein_mpnn)\n",
            "  --checkpoint_protein_mpnn CHECKPOINT_PROTEIN_MPNN\n",
            "                        Path to model weights. (default: ./model_params/proteinmpnn_v_48_020.pt)\n",
            "  --checkpoint_ligand_mpnn CHECKPOINT_LIGAND_MPNN\n",
            "                        Path to model weights. (default: ./model_params/ligandmpnn_v_32_010_25.pt)\n",
            "  --checkpoint_per_residue_label_membrane_mpnn CHECKPOINT_PER_RESIDUE_LABEL_MEMBRANE_MPNN\n",
            "                        Path to model weights. (default:\n",
            "                        ./model_params/per_residue_label_membrane_mpnn_v_48_020.pt)\n",
            "  --checkpoint_global_label_membrane_mpnn CHECKPOINT_GLOBAL_LABEL_MEMBRANE_MPNN\n",
            "                        Path to model weights. (default:\n",
            "                        ./model_params/global_label_membrane_mpnn_v_48_020.pt)\n",
            "  --checkpoint_soluble_mpnn CHECKPOINT_SOLUBLE_MPNN\n",
            "                        Path to model weights. (default: ./model_params/solublempnn_v_48_020.pt)\n",
            "  --fasta_seq_separation FASTA_SEQ_SEPARATION\n",
            "                        Symbol to use between sequences from different chains (default: :)\n",
            "  --verbose VERBOSE     Print stuff (default: 1)\n",
            "  --pdb_path PDB_PATH   Path to the input PDB. (default: )\n",
            "  --pdb_path_multi PDB_PATH_MULTI\n",
            "                        Path to json listing PDB paths. {'/path/to/pdb': ''} - only keys will be\n",
            "                        used. (default: )\n",
            "  --fixed_residues FIXED_RESIDUES\n",
            "                        Provide fixed residues, A12 A13 A14 B2 B25 (default: )\n",
            "  --fixed_residues_multi FIXED_RESIDUES_MULTI\n",
            "                        Path to json mapping of fixed residues for each pdb i.e., {'/path/to/pdb':\n",
            "                        'A12 A13 A14 B2 B25'} (default: )\n",
            "  --redesigned_residues REDESIGNED_RESIDUES\n",
            "                        Provide to be redesigned residues, everything else will be fixed, A12 A13\n",
            "                        A14 B2 B25 (default: )\n",
            "  --redesigned_residues_multi REDESIGNED_RESIDUES_MULTI\n",
            "                        Path to json mapping of redesigned residues for each pdb i.e.,\n",
            "                        {'/path/to/pdb': 'A12 A13 A14 B2 B25'} (default: )\n",
            "  --bias_AA BIAS_AA     Bias generation of amino acids, e.g. 'A:-1.024,P:2.34,C:-12.34' (default:\n",
            "                        )\n",
            "  --bias_AA_per_residue BIAS_AA_PER_RESIDUE\n",
            "                        Path to json mapping of bias {'A12': {'G': -0.3, 'C': -2.0, 'H': 0.8},\n",
            "                        'A13': {'G': -1.3}} (default: )\n",
            "  --bias_AA_per_residue_multi BIAS_AA_PER_RESIDUE_MULTI\n",
            "                        Path to json mapping of bias {'pdb_path': {'A12': {'G': -0.3, 'C': -2.0,\n",
            "                        'H': 0.8}, 'A13': {'G': -1.3}}} (default: )\n",
            "  --omit_AA OMIT_AA     Bias generation of amino acids, e.g. 'ACG' (default: )\n",
            "  --omit_AA_per_residue OMIT_AA_PER_RESIDUE\n",
            "                        Path to json mapping of bias {'A12': 'APQ', 'A13': 'QST'} (default: )\n",
            "  --omit_AA_per_residue_multi OMIT_AA_PER_RESIDUE_MULTI\n",
            "                        Path to json mapping of bias {'pdb_path': {'A12': 'QSPC', 'A13': 'AGE'}}\n",
            "                        (default: )\n",
            "  --symmetry_residues SYMMETRY_RESIDUES\n",
            "                        Add list of lists for which residues need to be symmetric, e.g.\n",
            "                        'A12,A13,A14|C2,C3|A5,B6' (default: )\n",
            "  --symmetry_weights SYMMETRY_WEIGHTS\n",
            "                        Add weights that match symmetry_residues, e.g.\n",
            "                        '1.01,1.0,1.0|-1.0,2.0|2.0,2.3' (default: )\n",
            "  --homo_oligomer HOMO_OLIGOMER\n",
            "                        Setting this to 1 will automatically set --symmetry_residues and\n",
            "                        --symmetry_weights to do homooligomer design with equal weighting.\n",
            "                        (default: 0)\n",
            "  --out_folder OUT_FOLDER\n",
            "                        Path to a folder to output sequences, e.g. /home/out/ (default: None)\n",
            "  --file_ending FILE_ENDING\n",
            "                        adding_string_to_the_end (default: )\n",
            "  --zero_indexed ZERO_INDEXED\n",
            "                        1 - to start output PDB numbering with 0 (default: 0)\n",
            "  --seed SEED           Set seed for torch, numpy, and python random. (default: 0)\n",
            "  --batch_size BATCH_SIZE\n",
            "                        Number of sequence to generate per one pass. (default: 1)\n",
            "  --number_of_batches NUMBER_OF_BATCHES\n",
            "                        Number of times to design sequence using a chosen batch size. (default: 1)\n",
            "  --temperature TEMPERATURE\n",
            "                        Temperature to sample sequences. (default: 0.1)\n",
            "  --save_stats SAVE_STATS\n",
            "                        Save output statistics (default: 0)\n",
            "  --ligand_mpnn_use_atom_context LIGAND_MPNN_USE_ATOM_CONTEXT\n",
            "                        1 - use atom context, 0 - do not use atom context. (default: 1)\n",
            "  --ligand_mpnn_cutoff_for_score LIGAND_MPNN_CUTOFF_FOR_SCORE\n",
            "                        Cutoff in angstroms between protein and context atoms to select residues\n",
            "                        for reporting score. (default: 8.0)\n",
            "  --ligand_mpnn_use_side_chain_context LIGAND_MPNN_USE_SIDE_CHAIN_CONTEXT\n",
            "                        Flag to use side chain atoms as ligand context for the fixed residues\n",
            "                        (default: 0)\n",
            "  --chains_to_design CHAINS_TO_DESIGN\n",
            "                        Specify which chains to redesign, all others will be kept fixed, 'A,B,C,F'\n",
            "                        (default: )\n",
            "  --parse_these_chains_only PARSE_THESE_CHAINS_ONLY\n",
            "                        Provide chains letters for parsing backbones, 'A,B,C,F' (default: )\n",
            "  --transmembrane_buried TRANSMEMBRANE_BURIED\n",
            "                        Provide buried residues when using\n",
            "                        checkpoint_per_residue_label_membrane_mpnn model, A12 A13 A14 B2 B25\n",
            "                        (default: )\n",
            "  --transmembrane_interface TRANSMEMBRANE_INTERFACE\n",
            "                        Provide interface residues when using\n",
            "                        checkpoint_per_residue_label_membrane_mpnn model, A12 A13 A14 B2 B25\n",
            "                        (default: )\n",
            "  --global_transmembrane_label GLOBAL_TRANSMEMBRANE_LABEL\n",
            "                        Provide global label for global_label_membrane_mpnn model. 1 -\n",
            "                        transmembrane, 0 - soluble (default: 0)\n",
            "  --parse_atoms_with_zero_occupancy PARSE_ATOMS_WITH_ZERO_OCCUPANCY\n",
            "                        To parse atoms with zero occupancy in the PDB input files. 0 - do not\n",
            "                        parse, 1 - parse atoms with zero occupancy (default: 0)\n",
            "  --pack_side_chains PACK_SIDE_CHAINS\n",
            "                        1 - to run side chain packer, 0 - do not run it (default: 0)\n",
            "  --checkpoint_path_sc CHECKPOINT_PATH_SC\n",
            "                        Path to model weights. (default:\n",
            "                        ./model_params/ligandmpnn_sc_v_32_002_16.pt)\n",
            "  --number_of_packs_per_design NUMBER_OF_PACKS_PER_DESIGN\n",
            "                        Number of independent side chain packing samples to return per design\n",
            "                        (default: 4)\n",
            "  --sc_num_denoising_steps SC_NUM_DENOISING_STEPS\n",
            "                        Number of denoising/recycling steps to make for side chain packing\n",
            "                        (default: 3)\n",
            "  --sc_num_samples SC_NUM_SAMPLES\n",
            "                        Number of samples to draw from a mixture distribution and then take a\n",
            "                        sample with the highest likelihood. (default: 16)\n",
            "  --repack_everything REPACK_EVERYTHING\n",
            "                        1 - repacks side chains of all residues including the fixed ones; 0 -\n",
            "                        keeps the side chains fixed for fixed residues (default: 0)\n",
            "  --force_hetatm FORCE_HETATM\n",
            "                        To force ligand atoms to be written as HETATM to PDB file after packing.\n",
            "                        (default: 0)\n",
            "  --packed_suffix PACKED_SUFFIX\n",
            "                        Suffix for packed PDB paths (default: _packed)\n",
            "  --pack_with_ligand_context PACK_WITH_LIGAND_CONTEXT\n",
            "                        1-pack side chains using ligand context, 0 - do not use it. (default: 1)\n"
          ]
        }
      ]
    },
    {
      "cell_type": "code",
      "source": [
        "def triangle_centroid(A, B, C):\n",
        "    A, B, C = np.array(A), np.array(B), np.array(C)\n",
        "    centroid = (A + B + C) / 3\n",
        "    return centroid\n",
        "\n",
        "def move_point_towards(target, source, distance):\n",
        "    \"\"\"\n",
        "    Moves a point in a straight line towards a target by a given distance.\n",
        "    \"\"\"\n",
        "    target, source = np.array(target), np.array(source)\n",
        "    direction = target - source\n",
        "    length = np.linalg.norm(direction)\n",
        "\n",
        "    if length == 0:\n",
        "        return source  # If the source and target are the same, return the source itself\n",
        "\n",
        "    direction = direction / length  # Normalize the direction vector\n",
        "    return source + direction * distance  # Move the point"
      ],
      "metadata": {
        "id": "cOxB99exmzQ1"
      },
      "execution_count": 31,
      "outputs": []
    },
    {
      "cell_type": "code",
      "source": [
        "a = [32.485, 40.846, 87.264]\n",
        "b = [33.408, 41.308, 91.950]\n",
        "c = [34.349, 46.940, 92.745]"
      ],
      "metadata": {
        "id": "ZnZ-dqfsuScP"
      },
      "execution_count": 32,
      "outputs": []
    },
    {
      "cell_type": "code",
      "source": [
        "center = triangle_centroid(a, b, c)\n",
        "old_metal_coords = [25.825, 41.252, 90.979]\n",
        "new_metal = move_point_towards(center, old_metal_coords, 1)"
      ],
      "metadata": {
        "id": "E7iywz8Our-2"
      },
      "execution_count": 34,
      "outputs": []
    },
    {
      "cell_type": "code",
      "source": [
        "new_metal"
      ],
      "metadata": {
        "id": "MYu-WET0nqE-",
        "outputId": "02f90f9f-4956-4ec1-b5a1-ab687b17b8c8",
        "colab": {
          "base_uri": "https://localhost:8080/"
        }
      },
      "execution_count": 36,
      "outputs": [
        {
          "output_type": "execute_result",
          "data": {
            "text/plain": [
              "array([26.79774709, 41.48007238, 90.93721379])"
            ]
          },
          "metadata": {},
          "execution_count": 36
        }
      ]
    },
    {
      "cell_type": "code",
      "source": [
        "from prody import parsePDB"
      ],
      "metadata": {
        "id": "6ZONCQvZnuhR",
        "outputId": "beb305f3-94c1-4e5f-dcb2-0c3db98169f8",
        "colab": {
          "base_uri": "https://localhost:8080/",
          "height": 921
        }
      },
      "execution_count": 42,
      "outputs": [
        {
          "output_type": "error",
          "ename": "ModuleNotFoundError",
          "evalue": "No module named 'numpy.char'",
          "traceback": [
            "\u001b[0;31m---------------------------------------------------------------------------\u001b[0m",
            "\u001b[0;31mModuleNotFoundError\u001b[0m                       Traceback (most recent call last)",
            "\u001b[0;32m<ipython-input-42-7ab491f03ed9>\u001b[0m in \u001b[0;36m<cell line: 0>\u001b[0;34m()\u001b[0m\n\u001b[0;32m----> 1\u001b[0;31m \u001b[0;32mfrom\u001b[0m \u001b[0mprody\u001b[0m \u001b[0;32mimport\u001b[0m \u001b[0mparsePDB\u001b[0m\u001b[0;34m\u001b[0m\u001b[0;34m\u001b[0m\u001b[0m\n\u001b[0m",
            "\u001b[0;32m/usr/local/lib/python3.11/dist-packages/prody/__init__.py\u001b[0m in \u001b[0;36m<module>\u001b[0;34m\u001b[0m\n\u001b[1;32m     64\u001b[0m \u001b[0m__all__\u001b[0m \u001b[0;34m=\u001b[0m \u001b[0;34m[\u001b[0m\u001b[0;34m'checkUpdates'\u001b[0m\u001b[0;34m,\u001b[0m \u001b[0;34m'confProDy'\u001b[0m\u001b[0;34m,\u001b[0m \u001b[0;34m'startLogfile'\u001b[0m\u001b[0;34m,\u001b[0m \u001b[0;34m'closeLogfile'\u001b[0m\u001b[0;34m,\u001b[0m \u001b[0;34m'plog'\u001b[0m\u001b[0;34m]\u001b[0m\u001b[0;34m\u001b[0m\u001b[0;34m\u001b[0m\u001b[0m\n\u001b[1;32m     65\u001b[0m \u001b[0;34m\u001b[0m\u001b[0m\n\u001b[0;32m---> 66\u001b[0;31m \u001b[0;32mfrom\u001b[0m \u001b[0;34m.\u001b[0m \u001b[0;32mimport\u001b[0m \u001b[0mutilities\u001b[0m\u001b[0;34m\u001b[0m\u001b[0;34m\u001b[0m\u001b[0m\n\u001b[0m\u001b[1;32m     67\u001b[0m \u001b[0;32mfrom\u001b[0m \u001b[0;34m.\u001b[0m\u001b[0mutilities\u001b[0m \u001b[0;32mimport\u001b[0m \u001b[0;34m*\u001b[0m\u001b[0;34m\u001b[0m\u001b[0;34m\u001b[0m\u001b[0m\n\u001b[1;32m     68\u001b[0m \u001b[0;32mfrom\u001b[0m \u001b[0;34m.\u001b[0m\u001b[0mutilities\u001b[0m \u001b[0;32mimport\u001b[0m \u001b[0mLOGGER\u001b[0m\u001b[0;34m,\u001b[0m \u001b[0mPackageSettings\u001b[0m\u001b[0;34m\u001b[0m\u001b[0;34m\u001b[0m\u001b[0m\n",
            "\u001b[0;32m/usr/local/lib/python3.11/dist-packages/prody/utilities/__init__.py\u001b[0m in \u001b[0;36m<module>\u001b[0;34m\u001b[0m\n\u001b[1;32m     67\u001b[0m \u001b[0;32mfrom\u001b[0m \u001b[0;34m.\u001b[0m\u001b[0mlogger\u001b[0m \u001b[0;32mimport\u001b[0m \u001b[0;34m*\u001b[0m\u001b[0;34m\u001b[0m\u001b[0;34m\u001b[0m\u001b[0m\n\u001b[1;32m     68\u001b[0m \u001b[0;32mfrom\u001b[0m \u001b[0;34m.\u001b[0m\u001b[0msettings\u001b[0m \u001b[0;32mimport\u001b[0m \u001b[0;34m*\u001b[0m\u001b[0;34m\u001b[0m\u001b[0;34m\u001b[0m\u001b[0m\n\u001b[0;32m---> 69\u001b[0;31m \u001b[0;32mfrom\u001b[0m \u001b[0;34m.\u001b[0m\u001b[0mmisctools\u001b[0m \u001b[0;32mimport\u001b[0m \u001b[0;34m*\u001b[0m\u001b[0;34m\u001b[0m\u001b[0;34m\u001b[0m\u001b[0m\n\u001b[0m\u001b[1;32m     70\u001b[0m \u001b[0;32mfrom\u001b[0m \u001b[0;34m.\u001b[0m\u001b[0mpathtools\u001b[0m \u001b[0;32mimport\u001b[0m \u001b[0;34m*\u001b[0m\u001b[0;34m\u001b[0m\u001b[0;34m\u001b[0m\u001b[0m\n\u001b[1;32m     71\u001b[0m \u001b[0;32mfrom\u001b[0m \u001b[0;34m.\u001b[0m\u001b[0mdoctools\u001b[0m \u001b[0;32mimport\u001b[0m \u001b[0;34m*\u001b[0m\u001b[0;34m\u001b[0m\u001b[0;34m\u001b[0m\u001b[0m\n",
            "\u001b[0;32m/usr/local/lib/python3.11/dist-packages/prody/utilities/misctools.py\u001b[0m in \u001b[0;36m<module>\u001b[0;34m\u001b[0m\n\u001b[1;32m      2\u001b[0m \u001b[0;32mimport\u001b[0m \u001b[0mre\u001b[0m\u001b[0;34m\u001b[0m\u001b[0;34m\u001b[0m\u001b[0m\n\u001b[1;32m      3\u001b[0m \u001b[0;34m\u001b[0m\u001b[0m\n\u001b[0;32m----> 4\u001b[0;31m \u001b[0;32mfrom\u001b[0m \u001b[0mnumpy\u001b[0m \u001b[0;32mimport\u001b[0m \u001b[0munique\u001b[0m\u001b[0;34m,\u001b[0m \u001b[0mlinalg\u001b[0m\u001b[0;34m,\u001b[0m \u001b[0mdiag\u001b[0m\u001b[0;34m,\u001b[0m \u001b[0msqrt\u001b[0m\u001b[0;34m,\u001b[0m \u001b[0mdot\u001b[0m\u001b[0;34m,\u001b[0m \u001b[0mchararray\u001b[0m\u001b[0;34m,\u001b[0m \u001b[0mdivide\u001b[0m\u001b[0;34m,\u001b[0m \u001b[0mzeros_like\u001b[0m\u001b[0;34m,\u001b[0m \u001b[0mzeros\u001b[0m\u001b[0;34m,\u001b[0m \u001b[0mallclose\u001b[0m\u001b[0;34m,\u001b[0m \u001b[0mceil\u001b[0m\u001b[0;34m,\u001b[0m \u001b[0mabs\u001b[0m\u001b[0;34m\u001b[0m\u001b[0;34m\u001b[0m\u001b[0m\n\u001b[0m\u001b[1;32m      5\u001b[0m \u001b[0;32mfrom\u001b[0m \u001b[0mnumpy\u001b[0m \u001b[0;32mimport\u001b[0m \u001b[0mdiff\u001b[0m\u001b[0;34m,\u001b[0m \u001b[0mwhere\u001b[0m\u001b[0;34m,\u001b[0m \u001b[0minsert\u001b[0m\u001b[0;34m,\u001b[0m \u001b[0mnan\u001b[0m\u001b[0;34m,\u001b[0m \u001b[0misnan\u001b[0m\u001b[0;34m,\u001b[0m \u001b[0mloadtxt\u001b[0m\u001b[0;34m,\u001b[0m \u001b[0marray\u001b[0m\u001b[0;34m,\u001b[0m \u001b[0mround\u001b[0m\u001b[0;34m,\u001b[0m \u001b[0maverage\u001b[0m\u001b[0;34m,\u001b[0m \u001b[0mmin\u001b[0m\u001b[0;34m,\u001b[0m \u001b[0mmax\u001b[0m\u001b[0;34m,\u001b[0m \u001b[0mdelete\u001b[0m\u001b[0;34m,\u001b[0m \u001b[0mvstack\u001b[0m\u001b[0;34m\u001b[0m\u001b[0;34m\u001b[0m\u001b[0m\n\u001b[1;32m      6\u001b[0m \u001b[0;32mfrom\u001b[0m \u001b[0mnumpy\u001b[0m \u001b[0;32mimport\u001b[0m \u001b[0msign\u001b[0m\u001b[0;34m,\u001b[0m \u001b[0marange\u001b[0m\u001b[0;34m,\u001b[0m \u001b[0masarray\u001b[0m\u001b[0;34m,\u001b[0m \u001b[0mndarray\u001b[0m\u001b[0;34m,\u001b[0m \u001b[0msubtract\u001b[0m\u001b[0;34m,\u001b[0m \u001b[0mpower\u001b[0m\u001b[0;34m,\u001b[0m \u001b[0msum\u001b[0m\u001b[0;34m,\u001b[0m \u001b[0misscalar\u001b[0m\u001b[0;34m,\u001b[0m \u001b[0mempty\u001b[0m\u001b[0;34m,\u001b[0m \u001b[0mtriu\u001b[0m\u001b[0;34m,\u001b[0m \u001b[0mtril\u001b[0m\u001b[0;34m,\u001b[0m \u001b[0mmedian\u001b[0m\u001b[0;34m\u001b[0m\u001b[0;34m\u001b[0m\u001b[0m\n",
            "\u001b[0;32m/usr/local/lib/python3.11/dist-packages/numpy/__init__.py\u001b[0m in \u001b[0;36m__getattr__\u001b[0;34m(attr)\u001b[0m\n\u001b[1;32m    405\u001b[0m     \u001b[0mcore\u001b[0m\u001b[0;34m.\u001b[0m\u001b[0mmultiarray\u001b[0m\u001b[0;34m.\u001b[0m\u001b[0m_set_madvise_hugepage\u001b[0m\u001b[0;34m(\u001b[0m\u001b[0muse_hugepage\u001b[0m\u001b[0;34m)\u001b[0m\u001b[0;34m\u001b[0m\u001b[0;34m\u001b[0m\u001b[0m\n\u001b[1;32m    406\u001b[0m \u001b[0;34m\u001b[0m\u001b[0m\n\u001b[0;32m--> 407\u001b[0;31m     \u001b[0;31m# Give a warning if NumPy is reloaded or imported on a sub-interpreter\u001b[0m\u001b[0;34m\u001b[0m\u001b[0;34m\u001b[0m\u001b[0m\n\u001b[0m\u001b[1;32m    408\u001b[0m     \u001b[0;31m# We do this from python, since the C-module may not be reloaded and\u001b[0m\u001b[0;34m\u001b[0m\u001b[0;34m\u001b[0m\u001b[0m\n\u001b[1;32m    409\u001b[0m     \u001b[0;31m# it is tidier organized.\u001b[0m\u001b[0;34m\u001b[0m\u001b[0;34m\u001b[0m\u001b[0m\n",
            "\u001b[0;31mModuleNotFoundError\u001b[0m: No module named 'numpy.char'",
            "",
            "\u001b[0;31m---------------------------------------------------------------------------\u001b[0;32m\nNOTE: If your import is failing due to a missing package, you can\nmanually install dependencies using either !pip or !apt.\n\nTo view examples of installing some common dependencies, click the\n\"Open Examples\" button below.\n\u001b[0;31m---------------------------------------------------------------------------\u001b[0m\n"
          ],
          "errorDetails": {
            "actions": [
              {
                "action": "open_url",
                "actionText": "Open Examples",
                "url": "/notebooks/snippets/importing_libraries.ipynb"
              }
            ]
          }
        }
      ]
    },
    {
      "cell_type": "code",
      "source": [
        "import numpy as np\n",
        "np.__version__"
      ],
      "metadata": {
        "id": "NH-JD_m7tKCI",
        "outputId": "7784be54-c442-4d92-843d-f3eb49fbcef9",
        "colab": {
          "base_uri": "https://localhost:8080/",
          "height": 36
        }
      },
      "execution_count": 2,
      "outputs": [
        {
          "output_type": "execute_result",
          "data": {
            "text/plain": [
              "'1.23.5'"
            ],
            "application/vnd.google.colaboratory.intrinsic+json": {
              "type": "string"
            }
          },
          "metadata": {},
          "execution_count": 2
        }
      ]
    },
    {
      "cell_type": "code",
      "source": [
        "import prody"
      ],
      "metadata": {
        "id": "sXkmZUg6u7TW"
      },
      "execution_count": 3,
      "outputs": []
    },
    {
      "cell_type": "code",
      "source": [
        "struct = prody.parsePDB('inputs/1BC8.pdb')"
      ],
      "metadata": {
        "id": "plo9zsT6u8-r",
        "outputId": "2a22cc6a-4a30-446e-ee4f-f69dc773f238",
        "colab": {
          "base_uri": "https://localhost:8080/"
        }
      },
      "execution_count": 4,
      "outputs": [
        {
          "output_type": "stream",
          "name": "stderr",
          "text": [
            "@> 1356 atoms and 1 coordinate set(s) were parsed in 0.03s.\n",
            "DEBUG:.prody:1356 atoms and 1 coordinate set(s) were parsed in 0.03s.\n"
          ]
        }
      ]
    },
    {
      "cell_type": "code",
      "source": [
        "struct"
      ],
      "metadata": {
        "id": "wWF4ILKNvDq2",
        "outputId": "8e1f5162-20c9-488f-e267-a8111b29a55f",
        "colab": {
          "base_uri": "https://localhost:8080/"
        }
      },
      "execution_count": 5,
      "outputs": [
        {
          "output_type": "execute_result",
          "data": {
            "text/plain": [
              "<AtomGroup: 1BC8 (1356 atoms)>"
            ]
          },
          "metadata": {},
          "execution_count": 5
        }
      ]
    },
    {
      "cell_type": "code",
      "source": [
        "!pip install python_pdb"
      ],
      "metadata": {
        "id": "ym4abVZEvEap",
        "outputId": "02db4600-fff7-487d-9b6b-36bf7d860c6d",
        "colab": {
          "base_uri": "https://localhost:8080/"
        }
      },
      "execution_count": 6,
      "outputs": [
        {
          "output_type": "stream",
          "name": "stdout",
          "text": [
            "Collecting python_pdb\n",
            "  Downloading python_pdb-0.1.3-py3-none-any.whl.metadata (2.0 kB)\n",
            "Requirement already satisfied: numpy in /usr/local/lib/python3.11/dist-packages (from python_pdb) (1.23.5)\n",
            "Requirement already satisfied: pandas in /usr/local/lib/python3.11/dist-packages (from python_pdb) (2.2.2)\n",
            "Requirement already satisfied: python-dateutil>=2.8.2 in /usr/local/lib/python3.11/dist-packages (from pandas->python_pdb) (2.8.2)\n",
            "Requirement already satisfied: pytz>=2020.1 in /usr/local/lib/python3.11/dist-packages (from pandas->python_pdb) (2025.1)\n",
            "Requirement already satisfied: tzdata>=2022.7 in /usr/local/lib/python3.11/dist-packages (from pandas->python_pdb) (2025.1)\n",
            "Requirement already satisfied: six>=1.5 in /usr/local/lib/python3.11/dist-packages (from python-dateutil>=2.8.2->pandas->python_pdb) (1.17.0)\n",
            "Downloading python_pdb-0.1.3-py3-none-any.whl (16 kB)\n",
            "Installing collected packages: python_pdb\n",
            "Successfully installed python_pdb-0.1.3\n"
          ]
        }
      ]
    },
    {
      "cell_type": "code",
      "source": [
        "!pip install biopandas"
      ],
      "metadata": {
        "id": "8ICRDMkQvUQg",
        "outputId": "2525eb31-9b90-4c90-92ef-61d9f225bed1",
        "colab": {
          "base_uri": "https://localhost:8080/"
        }
      },
      "execution_count": 14,
      "outputs": [
        {
          "output_type": "stream",
          "name": "stdout",
          "text": [
            "Collecting biopandas\n",
            "  Downloading biopandas-0.5.1-py3-none-any.whl.metadata (1.6 kB)\n",
            "Requirement already satisfied: numpy>=1.16.2 in /usr/local/lib/python3.11/dist-packages (from biopandas) (1.23.5)\n",
            "Requirement already satisfied: pandas>=0.24.2 in /usr/local/lib/python3.11/dist-packages (from biopandas) (2.2.2)\n",
            "Collecting mmtf-python==1.1.3 (from biopandas)\n",
            "  Downloading mmtf_python-1.1.3-py2.py3-none-any.whl.metadata (1.2 kB)\n",
            "Collecting looseversion==1.1.2 (from biopandas)\n",
            "  Downloading looseversion-1.1.2-py3-none-any.whl.metadata (4.6 kB)\n",
            "Requirement already satisfied: setuptools in /usr/local/lib/python3.11/dist-packages (from biopandas) (75.1.0)\n",
            "Requirement already satisfied: msgpack>=1.0.0 in /usr/local/lib/python3.11/dist-packages (from mmtf-python==1.1.3->biopandas) (1.1.0)\n",
            "Requirement already satisfied: python-dateutil>=2.8.2 in /usr/local/lib/python3.11/dist-packages (from pandas>=0.24.2->biopandas) (2.8.2)\n",
            "Requirement already satisfied: pytz>=2020.1 in /usr/local/lib/python3.11/dist-packages (from pandas>=0.24.2->biopandas) (2025.1)\n",
            "Requirement already satisfied: tzdata>=2022.7 in /usr/local/lib/python3.11/dist-packages (from pandas>=0.24.2->biopandas) (2025.1)\n",
            "Requirement already satisfied: six>=1.5 in /usr/local/lib/python3.11/dist-packages (from python-dateutil>=2.8.2->pandas>=0.24.2->biopandas) (1.17.0)\n",
            "Downloading biopandas-0.5.1-py3-none-any.whl (68 kB)\n",
            "\u001b[?25l   \u001b[90m━━━━━━━━━━━━━━━━━━━━━━━━━━━━━━━━━━━━━━━━\u001b[0m \u001b[32m0.0/68.3 kB\u001b[0m \u001b[31m?\u001b[0m eta \u001b[36m-:--:--\u001b[0m\r\u001b[2K   \u001b[90m━━━━━━━━━━━━━━━━━━━━━━━━━━━━━━━━━━━━━━━━\u001b[0m \u001b[32m68.3/68.3 kB\u001b[0m \u001b[31m5.3 MB/s\u001b[0m eta \u001b[36m0:00:00\u001b[0m\n",
            "\u001b[?25hDownloading looseversion-1.1.2-py3-none-any.whl (8.1 kB)\n",
            "Downloading mmtf_python-1.1.3-py2.py3-none-any.whl (25 kB)\n",
            "Installing collected packages: mmtf-python, looseversion, biopandas\n",
            "Successfully installed biopandas-0.5.1 looseversion-1.1.2 mmtf-python-1.1.3\n"
          ]
        }
      ]
    },
    {
      "cell_type": "markdown",
      "source": [
        "# Moving metal ion"
      ],
      "metadata": {
        "id": "IOWdetu62dXl"
      }
    },
    {
      "cell_type": "code",
      "source": [
        "from biopandas.pdb import PandasPdb"
      ],
      "metadata": {
        "id": "LqU-h2xXvdaq"
      },
      "execution_count": 15,
      "outputs": []
    },
    {
      "cell_type": "code",
      "source": [
        "def triangle_centroid(A, B, C):\n",
        "    \"\"\"Calculate the centroid of a triangle given three 3D points.\"\"\"\n",
        "    return (A + B + C) / 3\n",
        "\n",
        "def move_point_towards(target, source, distance):\n",
        "    \"\"\"Moves a point towards a target by a given distance.\"\"\"\n",
        "    direction = target - source\n",
        "    length = np.linalg.norm(direction)\n",
        "\n",
        "    if length == 0:\n",
        "        return source  # If already at the target, do nothing\n",
        "\n",
        "    direction = direction / length  # Normalize direction\n",
        "    return source + direction * distance\n",
        "\n",
        "\n",
        "# Load PDB file\n",
        "pdb = PandasPdb().read_pdb(\"inputs/test.pdb\")\n",
        "df = pdb.df['HETATM']  # Get atomic data\n",
        "\n",
        "# choose atoms to calculate point to move towards\n",
        "a = np.array(a)\n",
        "b = np.array(b)\n",
        "c = np.array(c)\n",
        "\n",
        "# Atom to be moved\n",
        "P_index = 1514\n",
        "\n",
        "P = df.loc[df[\"atom_number\"] == P_index, [\"x_coord\", \"y_coord\", \"z_coord\"]].values[0]\n",
        "\n",
        "# Compute centroid and move atom\n",
        "centroid = triangle_centroid(a, b, c)\n",
        "distance = 1  # moving distance in Angstrom\n",
        "new_P = move_point_towards(centroid, P, distance)\n",
        "\n",
        "# Update dataframe\n",
        "df.loc[df[\"atom_number\"] == P_index, [\"x_coord\", \"y_coord\", \"z_coord\"]] = new_P\n",
        "\n",
        "# Save modified PDB\n",
        "pdb.to_pdb(path=\"output.pdb\", records=[\"HETATM\", \"ATOM\"], gz=False)\n"
      ],
      "metadata": {
        "id": "8Hih64b-v1An"
      },
      "execution_count": 80,
      "outputs": []
    },
    {
      "cell_type": "code",
      "source": [
        "new_P = move_point_towards(centroid, P, distance)\n"
      ],
      "metadata": {
        "id": "KxKvFSJOzl1n"
      },
      "execution_count": 67,
      "outputs": []
    },
    {
      "cell_type": "code",
      "source": [
        "!cat inputs/test.pdb | grep HETATM"
      ],
      "metadata": {
        "id": "WUmWVSK30R8p",
        "outputId": "1805b7fd-930a-41e3-bec6-0fd1e72dd48a",
        "colab": {
          "base_uri": "https://localhost:8080/"
        }
      },
      "execution_count": 81,
      "outputs": [
        {
          "output_type": "stream",
          "name": "stdout",
          "text": [
            "HETATM 1514 Tb1  TRB h   1      25.825  41.252  90.979  1.00  0.00          Tb\n"
          ]
        }
      ]
    },
    {
      "cell_type": "code",
      "source": [
        "!cat output.pdb | grep HETATM"
      ],
      "metadata": {
        "id": "nLdO2myn2Hjc",
        "outputId": "d53f608d-6383-4b29-972f-d69a150c6ebf",
        "colab": {
          "base_uri": "https://localhost:8080/"
        }
      },
      "execution_count": 85,
      "outputs": [
        {
          "output_type": "stream",
          "name": "stdout",
          "text": [
            "HETATM 1514  Tb1 TRB h   1      26.798  41.480  90.937  1.00  0.00          Tb  \n"
          ]
        }
      ]
    },
    {
      "cell_type": "code",
      "source": [],
      "metadata": {
        "id": "9aVEzyER2JHq"
      },
      "execution_count": null,
      "outputs": []
    }
  ],
  "metadata": {
    "kernelspec": {
      "display_name": "Python 3",
      "name": "python3"
    },
    "language_info": {
      "name": "python",
      "version": "3.11.11"
    },
    "colab": {
      "provenance": [],
      "include_colab_link": true
    }
  },
  "nbformat": 4,
  "nbformat_minor": 0
}